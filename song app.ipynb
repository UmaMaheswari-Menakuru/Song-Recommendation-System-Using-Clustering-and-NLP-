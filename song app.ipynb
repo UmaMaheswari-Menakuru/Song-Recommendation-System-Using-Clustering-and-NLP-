{
 "cells": [
  {
   "cell_type": "code",
   "execution_count": 1,
   "id": "2df4175c",
   "metadata": {},
   "outputs": [
    {
     "name": "stdout",
     "output_type": "stream",
     "text": [
      " * Serving Flask app '__main__'\n",
      " * Debug mode: on\n"
     ]
    },
    {
     "name": "stderr",
     "output_type": "stream",
     "text": [
      "WARNING: This is a development server. Do not use it in a production deployment. Use a production WSGI server instead.\n",
      " * Running on http://127.0.0.1:5000\n",
      "Press CTRL+C to quit\n",
      " * Restarting with watchdog (windowsapi)\n"
     ]
    },
    {
     "ename": "SystemExit",
     "evalue": "1",
     "output_type": "error",
     "traceback": [
      "An exception has occurred, use %tb to see the full traceback.\n",
      "\u001b[1;31mSystemExit\u001b[0m\u001b[1;31m:\u001b[0m 1\n"
     ]
    },
    {
     "name": "stderr",
     "output_type": "stream",
     "text": [
      "C:\\Users\\user\\anaconda3\\Lib\\site-packages\\IPython\\core\\interactiveshell.py:3534: UserWarning: To exit: use 'exit', 'quit', or Ctrl-D.\n",
      "  warn(\"To exit: use 'exit', 'quit', or Ctrl-D.\", stacklevel=1)\n"
     ]
    }
   ],
   "source": [
    "from flask import Flask, request, render_template\n",
    "import pandas as pd\n",
    "import numpy as np\n",
    "\n",
    "app = Flask(__name__)\n",
    "\n",
    "# Load your DataFrame and cosine similarity matrix\n",
    "df = pd.read_csv(r\"C:\\Users\\user\\ SONG RECOMMENDATIONS PROJECT(P426)\\english_spotify_tracks_clusters.csv\")  # Update with your actual CSV path\n",
    "cosine_sim = np.load(r\"C:\\Users\\user\\ SONG RECOMMENDATIONS PROJECT(P426)\\cosine_similarity_matrix.npy\")  # Update with your actual cosine similarity file path\n",
    "\n",
    "# Function to get song recommendations\n",
    "def recommend_songs(song_name, df, cosine_sim, top_n=10):\n",
    "    if song_name not in df['name'].values:\n",
    "        return {\"error\": f\"Song '{song_name}' not found in the DataFrame.\"}\n",
    "    \n",
    "    idx = df.index[df['name'] == song_name][0]\n",
    "    song_cluster = df.loc[idx, 'cluster']\n",
    "    cluster_indices = df[df['cluster'] == song_cluster].index\n",
    "    sim_scores = list(enumerate(cosine_sim[idx]))\n",
    "    sim_scores = [score for score in sim_scores if score[0] in cluster_indices]\n",
    "    sim_scores = sorted(sim_scores, key=lambda x: x[1], reverse=True)\n",
    "    sim_scores = sim_scores[1:top_n+1]\n",
    "    \n",
    "    if len(sim_scores) == 0:\n",
    "        return []\n",
    "\n",
    "    song_indices = [i[0] for i in sim_scores]\n",
    "    recommendations = df.iloc[song_indices][['name', 'artist', 'genre']].to_dict(orient='records')\n",
    "    \n",
    "    return recommendations\n",
    "\n",
    "@app.route('/', methods=['GET', 'POST'])\n",
    "def index():\n",
    "    # Get the unique list of song names\n",
    "    song_names = df['name'].unique().tolist()\n",
    "    songs = None\n",
    "\n",
    "    if request.method == 'POST':\n",
    "        selected_song = request.form.get('names')\n",
    "        print(f\"Selected Song: {selected_song}\")  # Debugging print\n",
    "        songs = recommend_songs(selected_song, df, cosine_sim)\n",
    "        print(f\"Recommendations: {songs}\")  # Debugging print\n",
    "\n",
    "    return render_template('index.html', name=song_names, songs=songs)\n",
    "\n",
    "if __name__ == '__main__':\n",
    "    app.run(debug=True)\n"
   ]
  },
  {
   "cell_type": "code",
   "execution_count": null,
   "id": "a01784e9",
   "metadata": {},
   "outputs": [],
   "source": []
  }
 ],
 "metadata": {
  "kernelspec": {
   "display_name": "Python 3 (ipykernel)",
   "language": "python",
   "name": "python3"
  },
  "language_info": {
   "codemirror_mode": {
    "name": "ipython",
    "version": 3
   },
   "file_extension": ".py",
   "mimetype": "text/x-python",
   "name": "python",
   "nbconvert_exporter": "python",
   "pygments_lexer": "ipython3",
   "version": "3.11.5"
  }
 },
 "nbformat": 4,
 "nbformat_minor": 5
}
